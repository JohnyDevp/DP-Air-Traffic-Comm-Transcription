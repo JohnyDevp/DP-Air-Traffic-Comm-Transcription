{
 "cells": [
  {
   "cell_type": "code",
   "execution_count": 2,
   "metadata": {},
   "outputs": [],
   "source": [
    "from datasets import load_dataset, Dataset, DatasetDict, Audio"
   ]
  },
  {
   "cell_type": "code",
   "execution_count": 37,
   "metadata": {},
   "outputs": [
    {
     "data": {
      "application/vnd.jupyter.widget-view+json": {
       "model_id": "2549ff748f75422fa87322d9a9cd8e12",
       "version_major": 2,
       "version_minor": 0
      },
      "text/plain": [
       "Generating train split: 0 examples [00:00, ? examples/s]"
      ]
     },
     "metadata": {},
     "output_type": "display_data"
    }
   ],
   "source": [
    "RECORDINGS_DIR=\"/run/media/johnny/31c5407a-2da6-4ef8-95ec-d294c1afec38/\" \n",
    "META_FILE=\"../malorca/metadata_dev12.json\"\n",
    "SAVE_DIR=\"malorca\"\n",
    "\n",
    "# load the metadata\n",
    "# meta_data = json.load(open(META_FILE, mode='r'))\n",
    "dataset = load_dataset(\"json\", data_files=META_FILE, split=\"train\")"
   ]
  },
  {
   "cell_type": "code",
   "execution_count": 38,
   "metadata": {},
   "outputs": [
    {
     "data": {
      "application/vnd.jupyter.widget-view+json": {
       "model_id": "5b50419679a64cb8bc7674b5e15e3df6",
       "version_major": 2,
       "version_minor": 0
      },
      "text/plain": [
       "Map:   0%|          | 0/6335 [00:00<?, ? examples/s]"
      ]
     },
     "metadata": {},
     "output_type": "display_data"
    }
   ],
   "source": [
    "# set properly path to the recordings according to the current disk path\n",
    "dataset = dataset.map(lambda x: {\"audio\": RECORDINGS_DIR + x[\"audio\"]}, remove_columns=[\"audio\"])"
   ]
  },
  {
   "cell_type": "code",
   "execution_count": 39,
   "metadata": {},
   "outputs": [
    {
     "data": {
      "text/plain": [
       "{'audio': '/run/media/johnny/31c5407a-2da6-4ef8-95ec-d294c1afec38/MALORCA/DATA_ATC/VIENNA/WAV_FILES/LOWW07/BALAD_20160701_B7_1/2016-07-01__05-30-12-01.wav',\n",
       " 'full_ts': 'austrian four five five november continue on present heading climb flight level two four zero',\n",
       " 'short_ts': 'austrian 455N continue on present heading climb flight level 240 \\n'}"
      ]
     },
     "execution_count": 39,
     "metadata": {},
     "output_type": "execute_result"
    }
   ],
   "source": [
    "dataset[0]"
   ]
  },
  {
   "cell_type": "code",
   "execution_count": 40,
   "metadata": {},
   "outputs": [],
   "source": [
    "dataset = dataset.cast_column(\"audio\", Audio(sampling_rate=16000))"
   ]
  },
  {
   "cell_type": "code",
   "execution_count": 41,
   "metadata": {},
   "outputs": [
    {
     "data": {
      "application/vnd.jupyter.widget-view+json": {
       "model_id": "96269c007b774658ba7c0491766fe193",
       "version_major": 2,
       "version_minor": 0
      },
      "text/plain": [
       "Saving the dataset (0/1 shards):   0%|          | 0/6335 [00:00<?, ? examples/s]"
      ]
     },
     "metadata": {},
     "output_type": "display_data"
    }
   ],
   "source": [
    "dataset.save_to_disk(SAVE_DIR)"
   ]
  },
  {
   "cell_type": "code",
   "execution_count": 31,
   "metadata": {},
   "outputs": [],
   "source": [
    "dd = Dataset.load_from_disk(SAVE_DIR)"
   ]
  },
  {
   "cell_type": "code",
   "execution_count": 32,
   "metadata": {},
   "outputs": [
    {
     "data": {
      "text/plain": [
       "Dataset({\n",
       "    features: ['audio', 'full_ts', 'short_ts'],\n",
       "    num_rows: 3987\n",
       "})"
      ]
     },
     "execution_count": 32,
     "metadata": {},
     "output_type": "execute_result"
    }
   ],
   "source": [
    "dd"
   ]
  },
  {
   "cell_type": "code",
   "execution_count": 33,
   "metadata": {},
   "outputs": [
    {
     "data": {
      "text/plain": [
       "{'audio': {'path': '2016-07-01__05-30-12-01.wav',\n",
       "  'array': array([-5.45940537e-04, -2.77002080e-04,  5.77722967e-04, ...,\n",
       "         -1.16415322e-10,  2.91038305e-11,  2.91038305e-11]),\n",
       "  'sampling_rate': 16000},\n",
       " 'full_ts': 'austrian four five five november continue on present heading climb flight level two four zero',\n",
       " 'short_ts': 'austrian 455N continue on present heading climb flight level 240 \\n'}"
      ]
     },
     "execution_count": 33,
     "metadata": {},
     "output_type": "execute_result"
    }
   ],
   "source": [
    "dd[0]"
   ]
  }
 ],
 "metadata": {
  "kernelspec": {
   "display_name": "Python 3",
   "language": "python",
   "name": "python3"
  },
  "language_info": {
   "codemirror_mode": {
    "name": "ipython",
    "version": 3
   },
   "file_extension": ".py",
   "mimetype": "text/x-python",
   "name": "python",
   "nbconvert_exporter": "python",
   "pygments_lexer": "ipython3",
   "version": "3.12.7"
  }
 },
 "nbformat": 4,
 "nbformat_minor": 2
}
