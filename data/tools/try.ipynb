{
 "cells": [
  {
   "cell_type": "code",
   "execution_count": 2,
   "metadata": {},
   "outputs": [],
   "source": [
    "from datasets import load_dataset, Dataset, DatasetDict, Audio"
   ]
  },
  {
   "cell_type": "code",
   "execution_count": 37,
   "metadata": {},
   "outputs": [
    {
     "data": {
      "application/vnd.jupyter.widget-view+json": {
       "model_id": "2549ff748f75422fa87322d9a9cd8e12",
       "version_major": 2,
       "version_minor": 0
      },
      "text/plain": [
       "Generating train split: 0 examples [00:00, ? examples/s]"
      ]
     },
     "metadata": {},
     "output_type": "display_data"
    }
   ],
   "source": [
    "RECORDINGS_DIR=\"/run/media/johnny/31c5407a-2da6-4ef8-95ec-d294c1afec38/\" \n",
    "META_FILE=\"../malorca/metadata_dev12.json\"\n",
    "SAVE_DIR=\"malorca\"\n",
    "\n",
    "# load the metadata\n",
    "# meta_data = json.load(open(META_FILE, mode='r'))\n",
    "dataset = load_dataset(\"json\", data_files=META_FILE, split=\"train\")"
   ]
  },
  {
   "cell_type": "code",
   "execution_count": 38,
   "metadata": {},
   "outputs": [
    {
     "data": {
      "application/vnd.jupyter.widget-view+json": {
       "model_id": "5b50419679a64cb8bc7674b5e15e3df6",
       "version_major": 2,
       "version_minor": 0
      },
      "text/plain": [
       "Map:   0%|          | 0/6335 [00:00<?, ? examples/s]"
      ]
     },
     "metadata": {},
     "output_type": "display_data"
    }
   ],
   "source": [
    "# set properly path to the recordings according to the current disk path\n",
    "dataset = dataset.map(lambda x: {\"audio\": RECORDINGS_DIR + x[\"audio\"]}, remove_columns=[\"audio\"])"
   ]
  },
  {
   "cell_type": "code",
   "execution_count": 39,
   "metadata": {},
   "outputs": [
    {
     "data": {
      "text/plain": [
       "{'audio': '/run/media/johnny/31c5407a-2da6-4ef8-95ec-d294c1afec38/MALORCA/DATA_ATC/VIENNA/WAV_FILES/LOWW07/BALAD_20160701_B7_1/2016-07-01__05-30-12-01.wav',\n",
       " 'full_ts': 'austrian four five five november continue on present heading climb flight level two four zero',\n",
       " 'short_ts': 'austrian 455N continue on present heading climb flight level 240 \\n'}"
      ]
     },
     "execution_count": 39,
     "metadata": {},
     "output_type": "execute_result"
    }
   ],
   "source": [
    "dataset[0]"
   ]
  },
  {
   "cell_type": "code",
   "execution_count": 40,
   "metadata": {},
   "outputs": [],
   "source": [
    "dataset = dataset.cast_column(\"audio\", Audio(sampling_rate=16000))"
   ]
  },
  {
   "cell_type": "code",
   "execution_count": 41,
   "metadata": {},
   "outputs": [
    {
     "data": {
      "application/vnd.jupyter.widget-view+json": {
       "model_id": "96269c007b774658ba7c0491766fe193",
       "version_major": 2,
       "version_minor": 0
      },
      "text/plain": [
       "Saving the dataset (0/1 shards):   0%|          | 0/6335 [00:00<?, ? examples/s]"
      ]
     },
     "metadata": {},
     "output_type": "display_data"
    }
   ],
   "source": [
    "dataset.save_to_disk(SAVE_DIR)"
   ]
  },
  {
   "cell_type": "code",
   "execution_count": 31,
   "metadata": {},
   "outputs": [],
   "source": [
    "dd = Dataset.load_from_disk(SAVE_DIR)"
   ]
  },
  {
   "cell_type": "code",
   "execution_count": 32,
   "metadata": {},
   "outputs": [
    {
     "data": {
      "text/plain": [
       "Dataset({\n",
       "    features: ['audio', 'full_ts', 'short_ts'],\n",
       "    num_rows: 3987\n",
       "})"
      ]
     },
     "execution_count": 32,
     "metadata": {},
     "output_type": "execute_result"
    }
   ],
   "source": [
    "dd"
   ]
  },
  {
   "cell_type": "code",
   "execution_count": 33,
   "metadata": {},
   "outputs": [
    {
     "data": {
      "text/plain": [
       "{'audio': {'path': '2016-07-01__05-30-12-01.wav',\n",
       "  'array': array([-5.45940537e-04, -2.77002080e-04,  5.77722967e-04, ...,\n",
       "         -1.16415322e-10,  2.91038305e-11,  2.91038305e-11]),\n",
       "  'sampling_rate': 16000},\n",
       " 'full_ts': 'austrian four five five november continue on present heading climb flight level two four zero',\n",
       " 'short_ts': 'austrian 455N continue on present heading climb flight level 240 \\n'}"
      ]
     },
     "execution_count": 33,
     "metadata": {},
     "output_type": "execute_result"
    }
   ],
   "source": [
    "dd[0]"
   ]
  },
  {
   "cell_type": "code",
   "execution_count": 9,
   "metadata": {},
   "outputs": [],
   "source": [
    "import whisper\n",
    "model = whisper.load_model(\"medium\")"
   ]
  },
  {
   "cell_type": "code",
   "execution_count": null,
   "metadata": {},
   "outputs": [
    {
     "name": "stdout",
     "output_type": "stream",
     "text": [
      "Detected language: cs\n"
     ]
    }
   ],
   "source": [
    "\n",
    "# load audio and pad/trim it to fit 30 seconds\n",
    "audio = whisper.load_audio(\"/run/media/johnny/31c5407a-2da6-4ef8-95ec-d294c1afec38/ATCO2-ASRdataset-v1_final/DATA_nonEN/LKPR_RUZYNE_Tower_134_560MHz_20201025_110406.wav\")\n",
    "audio = whisper.pad_or_trim(audio)\n",
    "\n",
    "# make log-Mel spectrogram and move to the same device as the model\n",
    "mel = whisper.log_mel_spectrogram(audio).to(model.device)\n",
    "\n",
    "# detect the spoken language\n",
    "_, probs = model.detect_language(mel)\n",
    "print(f\"Detected language: {max(probs, key=probs.get)}\")"
   ]
  },
  {
   "cell_type": "code",
   "execution_count": 15,
   "metadata": {},
   "outputs": [
    {
     "name": "stderr",
     "output_type": "stream",
     "text": [
      "100%|██████████| 123/123 [00:46<00:00,  2.64it/s]\n",
      "100%|██████████| 31/31 [00:11<00:00,  2.63it/s]"
     ]
    },
    {
     "name": "stdout",
     "output_type": "stream",
     "text": [
      "SET OF LANGUAGES: \n",
      "de 8\n",
      "fr 113\n",
      "cs 20\n",
      "nl 2\n",
      "pl 4\n",
      "nn 1\n",
      "sk 6\n"
     ]
    },
    {
     "name": "stderr",
     "output_type": "stream",
     "text": [
      "\n"
     ]
    }
   ],
   "source": [
    "from glob import glob\n",
    "from pydub import AudioSegment\n",
    "from bs4 import BeautifulSoup, ResultSet\n",
    "from tqdm import tqdm  \n",
    "import os \n",
    "\n",
    "def is_english_lang(xml_data):\n",
    "    # returns True if more than 50% of the segments are in English, otherwise False\n",
    "    soup = BeautifulSoup(xml_data, \"xml\")\n",
    "    english_segments = 0\n",
    "    num_of_segments = len(soup.find_all(\"segment\"))\n",
    "    for segment in soup.find_all(\"segment\"):\n",
    "        tags = segment.find('tags')\n",
    "        if (tags):\n",
    "            tag_en = tags.find(\"non_english\")\n",
    "            if (tag_en): # the tag is <non_english></non_english>, meaning 0 is english\n",
    "                english_segments += 1 - int(tag_en.get_text())\n",
    "    \n",
    "    if (num_of_segments == 0):\n",
    "        return True    \n",
    "    else: \n",
    "        return english_segments / num_of_segments > 0.5\n",
    "\n",
    "count = 0\n",
    "langs = {}\n",
    "\n",
    "folders = [\"/run/media/johnny/31c5407a-2da6-4ef8-95ec-d294c1afec38/ATCO2-ASRdataset-v1_final/DATA_nonEN/\",\n",
    "           \"/run/media/johnny/31c5407a-2da6-4ef8-95ec-d294c1afec38/ATCO2-ASRdataset-v1_final/DATA-data-nonEN/\"]\n",
    "\n",
    "for folder in folders:\n",
    "    for file in tqdm(glob(folder + '*.wav')):\n",
    "        # load audio and pad/trim it to fit 30 seconds\n",
    "        audio = whisper.load_audio(file)\n",
    "        audio = whisper.pad_or_trim(audio)\n",
    "\n",
    "        # make log-Mel spectrogram and move to the same device as the model\n",
    "        mel = whisper.log_mel_spectrogram(audio).to(model.device)\n",
    "\n",
    "        # detect the spoken language\n",
    "        _, probs = model.detect_language(mel)\n",
    "        if (max(probs, key=probs.get) == \"en\"):\n",
    "            probs.pop(\"en\")\n",
    "        # print(f\"Detected language: {max(probs, key=probs.get)}\", file)\n",
    "        langs[max(probs, key=probs.get)] = langs.get(max(probs, key=probs.get), 0) + 1\n",
    "\n",
    "print(\"SET OF LANGUAGES: \")\n",
    "for lang in langs:\n",
    "    print(lang, langs[lang]) \n",
    "\n",
    "# for file in tqdm(glob('/run/media/johnny/31c5407a-2da6-4ef8-95ec-d294c1afec38/ATCO2-ASRdataset-v1_final/DATA_nonEN/*.xml')):\n",
    "#     if (is_english_lang(open(file, mode='r').read())):\n",
    "#         count += 1\n",
    "#         file = file.removesuffix('.xml')\n",
    "#         !mv {file}.* /run/media/johnny/31c5407a-2da6-4ef8-95ec-d294c1afec38/ATCO2-ASRdataset-v1_final/DATA_nonEN-datanonen-EN/\n",
    "\n",
    "# print(count) \n",
    "\n",
    "    # wav = AudioSegment.from_wav(file)\n",
    "    # # wav length in seconds\n",
    "    # length = len(wav) / 1000\n",
    "    # if length > 30:\n",
    "    #     print(file, length)\n",
    "        # file = file.removesuffix('.wav')\n",
    "        # print(\"MOVING: \", file)\n",
    "        \n",
    "        "
   ]
  },
  {
   "cell_type": "code",
   "execution_count": 9,
   "metadata": {},
   "outputs": [
    {
     "name": "stdout",
     "output_type": "stream",
     "text": [
      "24222\n",
      "8118\n"
     ]
    }
   ],
   "source": [
    "sss = \"\"\"\n",
    "Map: 100%\n",
    " 105/105 [00:02<00:00, 62.80 examples/s]\n",
    "Map: 100%\n",
    " 1579/1579 [00:46<00:00, 67.74 examples/s]\n",
    "Map: 100%\n",
    " 92/92 [00:01<00:00, 62.47 examples/s]\n",
    "Map: 100%\n",
    " 4032/4032 [01:48<00:00,  6.20 examples/s]\n",
    "Map: 100%\n",
    " 6335/6335 [02:57<00:00, 68.19 examples/s]\n",
    "Map: 100%\n",
    " 1373/1373 [00:45<00:00, 62.45 examples/s]\n",
    "Map: 100%\n",
    " 10706/10706 [05:15<00:00, 71.56 examples/s]\n",
    "\"\"\"\n",
    "sss = sss.split(\"\\n\")\n",
    "sss = [int(x.strip().split('/')[0]) for x in sss if x.find(\"Map\") == -1 and x != \"\"]\n",
    "train_sum = sum(sss)\n",
    "print(train_sum)\n",
    "\n",
    "vvv = \"\"\"\n",
    "Map: 100%\n",
    " 70/70 [00:01<00:00, 57.88 examples/s]\n",
    "Map: 100%\n",
    " 53/53 [00:01<00:00, 54.97 examples/s]\n",
    "Map: 100%\n",
    " 412/412 [00:10<00:00,  6.78 examples/s]\n",
    "Map: 100%\n",
    " 33/33 [00:00<00:00, 65.98 examples/s]\n",
    "Map: 100%\n",
    " 40/40 [00:01<00:00, 46.83 examples/s]\n",
    "Map: 100%\n",
    " 800/800 [00:19<00:00, 55.90 examples/s]\n",
    "Map: 100%\n",
    " 400/400 [00:08<00:00, 66.78 examples/s]\n",
    "Map: 100%\n",
    " 300/300 [00:05<00:00, 71.85 examples/s]\n",
    "Map: 100%\n",
    " 1557/1557 [00:47<00:00,  2.47 examples/s]\n",
    "Map: 100%\n",
    " 492/492 [00:15<00:00,  3.82 examples/s]\n",
    "Map: 100%\n",
    " 3961/3961 [01:47<00:00, 62.96 examples/s]\n",
    "\"\"\"\n",
    "vvv = vvv.split(\"\\n\")\n",
    "vvv = [int(x.strip().split('/')[0]) for x in vvv if x.find(\"Map\") == -1 and x != \"\"]\n",
    "test_sum = sum(vvv)\n",
    "print(test_sum)"
   ]
  }
 ],
 "metadata": {
  "kernelspec": {
   "display_name": "usr",
   "language": "python",
   "name": "python3"
  },
  "language_info": {
   "codemirror_mode": {
    "name": "ipython",
    "version": 3
   },
   "file_extension": ".py",
   "mimetype": "text/x-python",
   "name": "python",
   "nbconvert_exporter": "python",
   "pygments_lexer": "ipython3",
   "version": "3.12.7"
  }
 },
 "nbformat": 4,
 "nbformat_minor": 2
}
