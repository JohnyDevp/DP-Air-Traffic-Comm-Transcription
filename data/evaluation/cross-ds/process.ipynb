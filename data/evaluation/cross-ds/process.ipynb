{
 "cells": [
  {
   "cell_type": "code",
   "execution_count": 1,
   "metadata": {},
   "outputs": [],
   "source": [
    "import json\n",
    "from glob import glob\n",
    "import os"
   ]
  },
  {
   "cell_type": "code",
   "execution_count": 3,
   "metadata": {},
   "outputs": [
    {
     "name": "stdout",
     "output_type": "stream",
     "text": [
      "NATO \n",
      " -----\n",
      "en_ruzyne_test_ds: 75.0\n",
      "en_stefanik_test_ds: 72.48010610079577\n",
      "en_zurich_test_ds: 73.19627618308766\n",
      "fr_test_ds: 98.34558823529412\n",
      "other_lang_test_ds: 108.68263473053892\n",
      "hwir_fr_test_ds: 29.006677796327214\n",
      "hwir_gr_test_ds: 28.503184713375795\n",
      "hwir_sp_test_ds: 32.74428274428274\n",
      "malorca_test_ds: 48.85732941560562\n",
      "nato_test_ds: 12.089532234284949\n",
      "uwb_test_ds: 53.54560039491546\n",
      "\n",
      "MALORCA \n",
      " -----\n",
      "en_ruzyne_test_ds: 60.739030023094685\n",
      "en_stefanik_test_ds: 60.809018567639264\n",
      "en_zurich_test_ds: 65.43832428238944\n",
      "fr_test_ds: 95.03676470588235\n",
      "other_lang_test_ds: 117.51497005988023\n",
      "hwir_fr_test_ds: 40.56761268781302\n",
      "hwir_gr_test_ds: 40.92356687898089\n",
      "hwir_sp_test_ds: 39.70893970893971\n",
      "malorca_test_ds: 5.3759930351507235\n",
      "nato_test_ds: 38.841978287092886\n",
      "uwb_test_ds: 38.64247809453289\n",
      "\n",
      "HWIR \n",
      " -----\n",
      "en_ruzyne_test_ds: 65.58891454965358\n",
      "en_stefanik_test_ds: 65.38461538461539\n",
      "en_zurich_test_ds: 69.40780967158004\n",
      "fr_test_ds: 93.01470588235294\n",
      "other_lang_test_ds: 101.79640718562875\n",
      "hwir_fr_test_ds: 0.08347245409015025\n",
      "hwir_gr_test_ds: 0.47770700636942676\n",
      "hwir_sp_test_ds: 0.9355509355509356\n",
      "malorca_test_ds: 40.93481336380455\n",
      "nato_test_ds: 37.649108698565875\n",
      "uwb_test_ds: 44.03307417006047\n",
      "\n",
      "ATCO \n",
      " -----\n",
      "en_ruzyne_test_ds: 29.503464203233253\n",
      "en_stefanik_test_ds: 25.46419098143236\n",
      "en_zurich_test_ds: 28.290664597879495\n",
      "fr_test_ds: 47.97794117647059\n",
      "other_lang_test_ds: 86.82634730538922\n",
      "hwir_fr_test_ds: 39.39899833055092\n",
      "hwir_gr_test_ds: 41.40127388535032\n",
      "hwir_sp_test_ds: 39.604989604989605\n",
      "malorca_test_ds: 54.293176624224614\n",
      "nato_test_ds: 53.169816378501544\n",
      "uwb_test_ds: 50.94903122300383\n",
      "\n",
      "APIMOD \n",
      " -----\n",
      "en_ruzyne_test_ds: 43.87990762124711\n",
      "en_stefanik_test_ds: 40.9814323607427\n",
      "en_zurich_test_ds: 49.1207654512542\n",
      "fr_test_ds: 74.26470588235294\n",
      "other_lang_test_ds: 79.34131736526946\n",
      "hwir_fr_test_ds: 38.60601001669449\n",
      "hwir_gr_test_ds: 41.24203821656051\n",
      "hwir_sp_test_ds: 42.41164241164241\n",
      "malorca_test_ds: 53.433453041680266\n",
      "nato_test_ds: 58.28977348880847\n",
      "uwb_test_ds: 49.29285449833395\n",
      "\n"
     ]
    }
   ],
   "source": [
    "for filename in glob('*.json'):\n",
    "    with open(filename, 'r') as f:\n",
    "        data = json.load(f)\n",
    "        bn = os.path.basename(filename)\n",
    "        name = bn.split('_')[1].removesuffix('.json')\n",
    "        print(name.upper(),'\\n','-----')\n",
    "        for key, value in data.items():\n",
    "            print(f\"{key}: {value['eval_wer']}\")\n",
    "            \n",
    "    print()"
   ]
  }
 ],
 "metadata": {
  "kernelspec": {
   "display_name": "usr",
   "language": "python",
   "name": "python3"
  },
  "language_info": {
   "codemirror_mode": {
    "name": "ipython",
    "version": 3
   },
   "file_extension": ".py",
   "mimetype": "text/x-python",
   "name": "python",
   "nbconvert_exporter": "python",
   "pygments_lexer": "ipython3",
   "version": "3.12.8"
  }
 },
 "nbformat": 4,
 "nbformat_minor": 2
}
