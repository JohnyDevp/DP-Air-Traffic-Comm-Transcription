{
 "cells": [
  {
   "cell_type": "code",
   "execution_count": 1,
   "metadata": {},
   "outputs": [],
   "source": [
    "import json"
   ]
  },
  {
   "cell_type": "code",
   "execution_count": 2,
   "metadata": {},
   "outputs": [],
   "source": [
    "file1 = open('eval.json', 'r')\n",
    "file2 = open('eval-uwb.json', 'r')\n",
    "\n",
    "data1 = json.load(file1)\n",
    "data2 = json.load(file2)\n",
    "data1.update(data2)"
   ]
  },
  {
   "cell_type": "markdown",
   "metadata": {},
   "source": [
    "APIMOD\n",
    "---\n",
    "\n",
    "ATCO\n",
    "------\n",
    "Ruzyně\n",
    "Štefánik\n",
    "Zurich\n",
    "FR\n",
    "Jiné jazyky\n",
    "\n",
    "HIWIRE\n",
    "------\n",
    "FR\n",
    "GR\n",
    "SP\n",
    "\n",
    "MALORCA\n",
    "-------\n",
    "\n",
    "NATO\n",
    "-------\n",
    "\n",
    "UWB\n",
    "-------\n"
   ]
  },
  {
   "cell_type": "code",
   "execution_count": 5,
   "metadata": {},
   "outputs": [
    {
     "name": "stdout",
     "output_type": "stream",
     "text": [
      "Dataset: en_ruzyne_test_ds, eval_wer: 76.61662817551964\n",
      "Dataset: en_stefanik_test_ds, eval_wer: 75.72944297082228\n",
      "Dataset: en_zurich_test_ds, eval_wer: 80.8119989656064\n",
      "Dataset: fr_test_ds, eval_wer: 96.69117647058823\n",
      "Dataset: other_lang_test_ds, eval_wer: 107.48502994011977\n",
      "Dataset: hwir_fr_test_ds, eval_wer: 81.34390651085141\n",
      "Dataset: hwir_gr_test_ds, eval_wer: 82.00636942675159\n",
      "Dataset: hwir_sp_test_ds, eval_wer: 83.991683991684\n",
      "Dataset: malorca_test_ds, eval_wer: 86.26618783327892\n",
      "Dataset: nato_test_ds, eval_wer: 81.66465621230398\n",
      "Dataset: uwb_test_ds, eval_wer: 89.89016413673949\n"
     ]
    }
   ],
   "source": [
    "for key in data1:\n",
    "    print(f\"Dataset: {key}, eval_wer: {data1[key]['eval_wer']}\")"
   ]
  }
 ],
 "metadata": {
  "kernelspec": {
   "display_name": "usr",
   "language": "python",
   "name": "python3"
  },
  "language_info": {
   "codemirror_mode": {
    "name": "ipython",
    "version": 3
   },
   "file_extension": ".py",
   "mimetype": "text/x-python",
   "name": "python",
   "nbconvert_exporter": "python",
   "pygments_lexer": "ipython3",
   "version": "3.12.8"
  }
 },
 "nbformat": 4,
 "nbformat_minor": 2
}
