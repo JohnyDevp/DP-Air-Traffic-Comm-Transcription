{
 "cells": [
  {
   "cell_type": "code",
   "execution_count": 1,
   "metadata": {},
   "outputs": [],
   "source": [
    "import re"
   ]
  },
  {
   "cell_type": "code",
   "execution_count": 3,
   "metadata": {},
   "outputs": [
    {
     "name": "stdout",
     "output_type": "stream",
     "text": [
      "4\n",
      "3\n",
      "2\n",
      "1\n"
     ]
    }
   ],
   "source": [
    "number=\"1234\"\n",
    "for i in range(len(number)-1, -1, -1):\n",
    "    print(number[i])"
   ]
  },
  {
   "cell_type": "code",
   "execution_count": 1,
   "metadata": {},
   "outputs": [
    {
     "ename": "ModuleNotFoundError",
     "evalue": "No module named 'tools'",
     "output_type": "error",
     "traceback": [
      "\u001b[0;31m---------------------------------------------------------------------------\u001b[0m",
      "\u001b[0;31mModuleNotFoundError\u001b[0m                       Traceback (most recent call last)",
      "Cell \u001b[0;32mIn[1], line 1\u001b[0m\n\u001b[0;32m----> 1\u001b[0m \u001b[38;5;28;01mimport\u001b[39;00m \u001b[38;5;21;01mtools\u001b[39;00m\u001b[38;5;21;01m.\u001b[39;00m\u001b[38;5;21;01mtslib\u001b[39;00m\n",
      "\u001b[0;31mModuleNotFoundError\u001b[0m: No module named 'tools'"
     ]
    }
   ],
   "source": [
    "import tools.tslib"
   ]
  },
  {
   "cell_type": "code",
   "execution_count": 10,
   "metadata": {},
   "outputs": [
    {
     "name": "stdout",
     "output_type": "stream",
     "text": [
      "A Z . 12 34 56 78 90 ahoj 12 7 . 56\n"
     ]
    }
   ],
   "source": [
    "a=\"A Z 5 3 del. position 1 2 3  ahoj 1 2 7 . 5 6\"\n",
    "# ts = re.sub(r'([\\d]+)\\s\\.\\s([\\d]+)', r'\\1.\\2', a) # 1 . 2 -> 1.2\n",
    "ts = re.sub(r'(\\d+)\\s(\\d+)', r'\\1\\2', a) # 1 2 -> 12\n",
    "# ts = re.sub(r'([\\d]+)\\s([\\d]+)', r'\\1\\2', ts) # 1 2 -> 12 \n",
    "# ts = re.sub(r'([A-Z])\\s([A-Z0-9]*)', r'\\1\\2', ts) # A B -> AB\n",
    "print(ts)"
   ]
  },
  {
   "cell_type": "code",
   "execution_count": 33,
   "metadata": {},
   "outputs": [
    {
     "name": "stdout",
     "output_type": "stream",
     "text": [
      "5AZ53 del.  Position must be 123 Hello  ahoj 127.56\n"
     ]
    }
   ],
   "source": [
    "# Input string\n",
    "text = '5 A Z 5 3 del. Position must be 1 2 3 Hello  ahoj 1 2 7 . 5 6'\n",
    "\n",
    "# Step 1: Remove spaces between letters and numbers\n",
    "# text = re.sub(r'(?<=\\w)\\s+(?=\\w)', '', text)\n",
    "\n",
    "# Step 2: Remove spaces between numbers (except for floating-point numbers)\n",
    "text = re.sub(r'(?<=\\d)\\s+(?=\\d)', '', text) # 1 2 3 -> 123\n",
    "text = re.sub(r'(?<=\\d)\\s+\\.\\s+(?=\\d)', '.', text) # 1 . 2 -> 1.2\n",
    "text = re.sub(r'(?<=[A-Z0-9])\\s+(?=[A-Z0-9])', '', text) # A B -> AB\n",
    "# text = re.sub(r'(?<=[A-Z0-9])\\s+(?=[0-9A-Z]\\s)', '', text) # A B -> AB\n",
    "text = re.sub(r'([A-Z][a-z]+)', r' \\1', text) # A B -> AB\n",
    "print(text)"
   ]
  },
  {
   "cell_type": "code",
   "execution_count": 31,
   "metadata": {},
   "outputs": [
    {
     "name": "stdout",
     "output_type": "stream",
     "text": [
      "5 A Z 53 del. Position must be 123 Hello  ahoj 127.56\n"
     ]
    }
   ],
   "source": [
    "\n",
    "# Input string\n",
    "text = '5 A Z 5 3 del. Position must be 1 2 3 Hello  ahoj 1 2 7 . 5 6'\n",
    "\n",
    "# Step 1: Remove spaces between numbers (combine them into a single number)\n",
    "text = re.sub(r'(?<=\\d)\\s+(?=\\d)', '', text)  # 1 2 3 -> 123\n",
    "\n",
    "# Step 2: Fix spaces around decimal points (e.g., 1 . 2 -> 1.2)\n",
    "text = re.sub(r'(?<=\\d)\\s+\\.\\s+(?=\\d)', '.', text)\n",
    "\n",
    "# Step 3: Combine adjacent letters and numbers but only within \"chunks\"\n",
    "text = re.sub(r'(?<=[A-Z0-9])\\s+(?=[A-Z0-9])(?=\\S*$)', '', text)  # A B -> AB, but avoids 123 Hello -> 123Hello\n",
    "\n",
    "# Output result\n",
    "print(text)"
   ]
  }
 ],
 "metadata": {
  "kernelspec": {
   "display_name": "usr",
   "language": "python",
   "name": "python3"
  },
  "language_info": {
   "codemirror_mode": {
    "name": "ipython",
    "version": 3
   },
   "file_extension": ".py",
   "mimetype": "text/x-python",
   "name": "python",
   "nbconvert_exporter": "python",
   "pygments_lexer": "ipython3",
   "version": "3.12.7"
  }
 },
 "nbformat": 4,
 "nbformat_minor": 2
}
