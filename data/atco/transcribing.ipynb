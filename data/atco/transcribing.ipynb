{
 "cells": [
  {
   "cell_type": "code",
   "execution_count": 1,
   "metadata": {},
   "outputs": [],
   "source": [
    "import torch\n",
    "from transformers import pipeline\n",
    "import sys\n",
    "import os\n",
    "from scipy.io import wavfile\n",
    "from bs4 import BeautifulSoup"
   ]
  },
  {
   "cell_type": "code",
   "execution_count": null,
   "metadata": {},
   "outputs": [],
   "source": [
    "device = \"cuda:0\" if torch.cuda.is_available() else \"cpu\"\n",
    "transcribe = pipeline(task=\"automatic-speech-recognition\", model=\"BUT-FIT/whisper-ATC-czech-full\", chunk_length_s=30, device=device)\n",
    "# transcribe.model.config.forced_decoder_ids = transcribe.tokenizer.get_decoder_prompt_ids(task=\"transcribe\", language=\"czech\")\n",
    "# setting the parameters of model for correct working\n",
    "transcribe.generation_config.language = \"czech\"\n",
    "transcribe.generation_config.task = \"transcribe\"\n",
    "transcribe.generation_config.forced_decoder_ids = None\n"
   ]
  },
  {
   "cell_type": "code",
   "execution_count": 3,
   "metadata": {},
   "outputs": [
    {
     "name": "stderr",
     "output_type": "stream",
     "text": [
      "/home/johnny/.local/lib/python3.12/site-packages/transformers/models/whisper/generation_whisper.py:509: FutureWarning: The input name `inputs` is deprecated. Please make sure to use `input_features` instead.\n",
      "  warnings.warn(\n",
      "You have passed task=transcribe, but also have set `forced_decoder_ids` to [[1, 50283], [2, 50359], [3, 50363]] which creates a conflict. `forced_decoder_ids` will be ignored in favor of task=transcribe.\n",
      "The attention mask is not set and cannot be inferred from input because pad token is same as eos token. As a consequence, you may observe unexpected behavior. Please pass your input's `attention_mask` to obtain reliable results.\n"
     ]
    },
    {
     "name": "stdout",
     "output_type": "stream",
     "text": [
      "Transcription: {'text': 'Oscar Kilo Charlie Echo Sierra informace November QNH jedna nula jedna šest a jste povoleni za VFR na Sierru squawk čtyři tři dva nula\\n'}\n",
      "Oscar Kilo Charlie Echo Sierra informace november QNH jedna nula jedna šest a jste povolení za VFR na sierru squawk čtyři tři dva nula\n"
     ]
    }
   ],
   "source": [
    "audio_path = \"/mnt/datadisk/ATCO2-ASRdataset-v1_final/DATA_nonEN/\"\n",
    "file=\"LKTB_BRNO_Tower_119_605MHz_20201028_140027.wav\"\n",
    "print('Transcription:', transcribe(os.path.join(audio_path,file)))\n",
    "\n",
    "f = open(os.path.join(audio_path,file).replace('.wav','.xml'), \"r\")\n",
    "xml_data = f.read()\n",
    "soup = BeautifulSoup(xml_data, \"xml\")\n",
    "print(soup.find(\"text\").text)"
   ]
  },
  {
   "cell_type": "code",
   "execution_count": 4,
   "metadata": {},
   "outputs": [],
   "source": [
    "def getTranscription(file_path, display_audio=False, print_ts=False) -> tuple:\n",
    "    # model transcription\n",
    "    model_ts = transcribe(file_path)['text'].rstrip()\n",
    "    \n",
    "    if (os.path.exists(file_path.replace('.wav','.xml'))):\n",
    "        f = open(file_path.replace('.wav','.xml'), \"r\")\n",
    "        xml_data = f.read()\n",
    "        soup = BeautifulSoup(xml_data, \"xml\")\n",
    "        xml_ts = soup.find(\"text\").text\n",
    "    \n",
    "    if (display_audio):\n",
    "        display(Audio(filename=file_path))\n",
    "    \n",
    "    if (print_ts):\n",
    "        print('Model Transcription:', model_ts)\n",
    "        print('XML Transcription:', xml_ts)\n",
    "        \n",
    "    return model_ts, xml_ts"
   ]
  },
  {
   "cell_type": "code",
   "execution_count": 5,
   "metadata": {},
   "outputs": [
    {
     "name": "stderr",
     "output_type": "stream",
     "text": [
      "/home/johnny/.local/lib/python3.12/site-packages/transformers/models/whisper/generation_whisper.py:509: FutureWarning: The input name `inputs` is deprecated. Please make sure to use `input_features` instead.\n",
      "  warnings.warn(\n",
      "/home/johnny/.local/lib/python3.12/site-packages/transformers/models/whisper/generation_whisper.py:509: FutureWarning: The input name `inputs` is deprecated. Please make sure to use `input_features` instead.\n",
      "  warnings.warn(\n"
     ]
    },
    {
     "name": "stdout",
     "output_type": "stream",
     "text": [
      "Processed: LKTB_BRNO_Tower_119_605MHz_20201028_153007.wav\n"
     ]
    },
    {
     "name": "stderr",
     "output_type": "stream",
     "text": [
      "/home/johnny/.local/lib/python3.12/site-packages/transformers/models/whisper/generation_whisper.py:509: FutureWarning: The input name `inputs` is deprecated. Please make sure to use `input_features` instead.\n",
      "  warnings.warn(\n",
      "/home/johnny/.local/lib/python3.12/site-packages/transformers/models/whisper/generation_whisper.py:509: FutureWarning: The input name `inputs` is deprecated. Please make sure to use `input_features` instead.\n",
      "  warnings.warn(\n"
     ]
    },
    {
     "name": "stdout",
     "output_type": "stream",
     "text": [
      "Processed: LKPR_RUZYNE_Tower_134_560MHz_20201029_151000.wav\n"
     ]
    },
    {
     "name": "stderr",
     "output_type": "stream",
     "text": [
      "/home/johnny/.local/lib/python3.12/site-packages/transformers/models/whisper/generation_whisper.py:509: FutureWarning: The input name `inputs` is deprecated. Please make sure to use `input_features` instead.\n",
      "  warnings.warn(\n",
      "/home/johnny/.local/lib/python3.12/site-packages/transformers/models/whisper/generation_whisper.py:509: FutureWarning: The input name `inputs` is deprecated. Please make sure to use `input_features` instead.\n",
      "  warnings.warn(\n"
     ]
    },
    {
     "name": "stdout",
     "output_type": "stream",
     "text": [
      "Processed: LKPR_RUZYNE_Tower_134_560MHz_20201025_110406.wav\n"
     ]
    },
    {
     "name": "stderr",
     "output_type": "stream",
     "text": [
      "/home/johnny/.local/lib/python3.12/site-packages/transformers/models/whisper/generation_whisper.py:509: FutureWarning: The input name `inputs` is deprecated. Please make sure to use `input_features` instead.\n",
      "  warnings.warn(\n",
      "/home/johnny/.local/lib/python3.12/site-packages/transformers/models/whisper/generation_whisper.py:509: FutureWarning: The input name `inputs` is deprecated. Please make sure to use `input_features` instead.\n",
      "  warnings.warn(\n"
     ]
    },
    {
     "name": "stdout",
     "output_type": "stream",
     "text": [
      "Processed: LKTB_BRNO_Approach-Radar_127_350MHz_20201028_143213.wav\n"
     ]
    },
    {
     "name": "stderr",
     "output_type": "stream",
     "text": [
      "/home/johnny/.local/lib/python3.12/site-packages/transformers/models/whisper/generation_whisper.py:509: FutureWarning: The input name `inputs` is deprecated. Please make sure to use `input_features` instead.\n",
      "  warnings.warn(\n",
      "You seem to be using the pipelines sequentially on GPU. In order to maximize efficiency please use a dataset\n",
      "/home/johnny/.local/lib/python3.12/site-packages/transformers/models/whisper/generation_whisper.py:509: FutureWarning: The input name `inputs` is deprecated. Please make sure to use `input_features` instead.\n",
      "  warnings.warn(\n"
     ]
    },
    {
     "name": "stdout",
     "output_type": "stream",
     "text": [
      "Processed: LKTB_BRNO_Tower_119_605MHz_20201028_163859.wav\n"
     ]
    },
    {
     "name": "stderr",
     "output_type": "stream",
     "text": [
      "/home/johnny/.local/lib/python3.12/site-packages/transformers/models/whisper/generation_whisper.py:509: FutureWarning: The input name `inputs` is deprecated. Please make sure to use `input_features` instead.\n",
      "  warnings.warn(\n",
      "/home/johnny/.local/lib/python3.12/site-packages/transformers/models/whisper/generation_whisper.py:509: FutureWarning: The input name `inputs` is deprecated. Please make sure to use `input_features` instead.\n",
      "  warnings.warn(\n"
     ]
    },
    {
     "name": "stdout",
     "output_type": "stream",
     "text": [
      "Processed: LKPR_RUZYNE_Tower_134_560MHz_20201028_131126.wav\n"
     ]
    },
    {
     "name": "stderr",
     "output_type": "stream",
     "text": [
      "/home/johnny/.local/lib/python3.12/site-packages/transformers/models/whisper/generation_whisper.py:509: FutureWarning: The input name `inputs` is deprecated. Please make sure to use `input_features` instead.\n",
      "  warnings.warn(\n",
      "/home/johnny/.local/lib/python3.12/site-packages/transformers/models/whisper/generation_whisper.py:509: FutureWarning: The input name `inputs` is deprecated. Please make sure to use `input_features` instead.\n",
      "  warnings.warn(\n"
     ]
    },
    {
     "name": "stdout",
     "output_type": "stream",
     "text": [
      "Processed: LKTB_BRNO_Tower_119_605MHz_20201028_140027.wav\n"
     ]
    },
    {
     "name": "stderr",
     "output_type": "stream",
     "text": [
      "/home/johnny/.local/lib/python3.12/site-packages/transformers/models/whisper/generation_whisper.py:509: FutureWarning: The input name `inputs` is deprecated. Please make sure to use `input_features` instead.\n",
      "  warnings.warn(\n",
      "/home/johnny/.local/lib/python3.12/site-packages/transformers/models/whisper/generation_whisper.py:509: FutureWarning: The input name `inputs` is deprecated. Please make sure to use `input_features` instead.\n",
      "  warnings.warn(\n"
     ]
    },
    {
     "name": "stdout",
     "output_type": "stream",
     "text": [
      "Processed: LKPR_RUZYNE_Tower_134_560MHz_20201027_161901.wav\n"
     ]
    },
    {
     "name": "stderr",
     "output_type": "stream",
     "text": [
      "/home/johnny/.local/lib/python3.12/site-packages/transformers/models/whisper/generation_whisper.py:509: FutureWarning: The input name `inputs` is deprecated. Please make sure to use `input_features` instead.\n",
      "  warnings.warn(\n",
      "/home/johnny/.local/lib/python3.12/site-packages/transformers/models/whisper/generation_whisper.py:509: FutureWarning: The input name `inputs` is deprecated. Please make sure to use `input_features` instead.\n",
      "  warnings.warn(\n"
     ]
    },
    {
     "name": "stdout",
     "output_type": "stream",
     "text": [
      "Processed: LKTB_BRNO_Approach_118_375MHz_20201029_200954.wav\n"
     ]
    },
    {
     "name": "stderr",
     "output_type": "stream",
     "text": [
      "/home/johnny/.local/lib/python3.12/site-packages/transformers/models/whisper/generation_whisper.py:509: FutureWarning: The input name `inputs` is deprecated. Please make sure to use `input_features` instead.\n",
      "  warnings.warn(\n",
      "/home/johnny/.local/lib/python3.12/site-packages/transformers/models/whisper/generation_whisper.py:509: FutureWarning: The input name `inputs` is deprecated. Please make sure to use `input_features` instead.\n",
      "  warnings.warn(\n"
     ]
    },
    {
     "name": "stdout",
     "output_type": "stream",
     "text": [
      "Processed: LKPR_RUZYNE_Tower_134_560MHz_20201026_155626.wav\n"
     ]
    },
    {
     "name": "stderr",
     "output_type": "stream",
     "text": [
      "/home/johnny/.local/lib/python3.12/site-packages/transformers/models/whisper/generation_whisper.py:509: FutureWarning: The input name `inputs` is deprecated. Please make sure to use `input_features` instead.\n",
      "  warnings.warn(\n",
      "/home/johnny/.local/lib/python3.12/site-packages/transformers/models/whisper/generation_whisper.py:509: FutureWarning: The input name `inputs` is deprecated. Please make sure to use `input_features` instead.\n",
      "  warnings.warn(\n"
     ]
    },
    {
     "name": "stdout",
     "output_type": "stream",
     "text": [
      "Processed: LKPR_RUZYNE_Tower_134_560MHz_20201027_094835.wav\n"
     ]
    },
    {
     "name": "stderr",
     "output_type": "stream",
     "text": [
      "/home/johnny/.local/lib/python3.12/site-packages/transformers/models/whisper/generation_whisper.py:509: FutureWarning: The input name `inputs` is deprecated. Please make sure to use `input_features` instead.\n",
      "  warnings.warn(\n",
      "/home/johnny/.local/lib/python3.12/site-packages/transformers/models/whisper/generation_whisper.py:509: FutureWarning: The input name `inputs` is deprecated. Please make sure to use `input_features` instead.\n",
      "  warnings.warn(\n"
     ]
    },
    {
     "name": "stdout",
     "output_type": "stream",
     "text": [
      "Processed: LKPR_RUZYNE_Radar_120_520MHz_20201025_165054.wav\n"
     ]
    },
    {
     "name": "stderr",
     "output_type": "stream",
     "text": [
      "/home/johnny/.local/lib/python3.12/site-packages/transformers/models/whisper/generation_whisper.py:509: FutureWarning: The input name `inputs` is deprecated. Please make sure to use `input_features` instead.\n",
      "  warnings.warn(\n",
      "/home/johnny/.local/lib/python3.12/site-packages/transformers/models/whisper/generation_whisper.py:509: FutureWarning: The input name `inputs` is deprecated. Please make sure to use `input_features` instead.\n",
      "  warnings.warn(\n"
     ]
    },
    {
     "name": "stdout",
     "output_type": "stream",
     "text": [
      "Processed: LKTB_BRNO_Tower_119_605MHz_20201027_144500.wav\n"
     ]
    },
    {
     "name": "stderr",
     "output_type": "stream",
     "text": [
      "/home/johnny/.local/lib/python3.12/site-packages/transformers/models/whisper/generation_whisper.py:509: FutureWarning: The input name `inputs` is deprecated. Please make sure to use `input_features` instead.\n",
      "  warnings.warn(\n",
      "/home/johnny/.local/lib/python3.12/site-packages/transformers/models/whisper/generation_whisper.py:509: FutureWarning: The input name `inputs` is deprecated. Please make sure to use `input_features` instead.\n",
      "  warnings.warn(\n"
     ]
    },
    {
     "name": "stdout",
     "output_type": "stream",
     "text": [
      "Processed: LKTB_BRNO_Tower_119_605MHz_20201028_151525.wav\n"
     ]
    },
    {
     "name": "stderr",
     "output_type": "stream",
     "text": [
      "/home/johnny/.local/lib/python3.12/site-packages/transformers/models/whisper/generation_whisper.py:509: FutureWarning: The input name `inputs` is deprecated. Please make sure to use `input_features` instead.\n",
      "  warnings.warn(\n",
      "/home/johnny/.local/lib/python3.12/site-packages/transformers/models/whisper/generation_whisper.py:509: FutureWarning: The input name `inputs` is deprecated. Please make sure to use `input_features` instead.\n",
      "  warnings.warn(\n"
     ]
    },
    {
     "name": "stdout",
     "output_type": "stream",
     "text": [
      "Processed: LKPR_RUZYNE_Radar_120_520MHz_20201029_174523.wav\n"
     ]
    },
    {
     "name": "stderr",
     "output_type": "stream",
     "text": [
      "/home/johnny/.local/lib/python3.12/site-packages/transformers/models/whisper/generation_whisper.py:509: FutureWarning: The input name `inputs` is deprecated. Please make sure to use `input_features` instead.\n",
      "  warnings.warn(\n",
      "/home/johnny/.local/lib/python3.12/site-packages/transformers/models/whisper/generation_whisper.py:509: FutureWarning: The input name `inputs` is deprecated. Please make sure to use `input_features` instead.\n",
      "  warnings.warn(\n"
     ]
    },
    {
     "name": "stdout",
     "output_type": "stream",
     "text": [
      "Processed: LKTB_BRNO_Tower_119_605MHz_20201029_155930.wav\n"
     ]
    },
    {
     "name": "stderr",
     "output_type": "stream",
     "text": [
      "/home/johnny/.local/lib/python3.12/site-packages/transformers/models/whisper/generation_whisper.py:509: FutureWarning: The input name `inputs` is deprecated. Please make sure to use `input_features` instead.\n",
      "  warnings.warn(\n",
      "/home/johnny/.local/lib/python3.12/site-packages/transformers/models/whisper/generation_whisper.py:509: FutureWarning: The input name `inputs` is deprecated. Please make sure to use `input_features` instead.\n",
      "  warnings.warn(\n"
     ]
    },
    {
     "name": "stdout",
     "output_type": "stream",
     "text": [
      "Processed: LKPR_RUZYNE_Tower_134_560MHz_20201026_155816.wav\n"
     ]
    },
    {
     "name": "stderr",
     "output_type": "stream",
     "text": [
      "/home/johnny/.local/lib/python3.12/site-packages/transformers/models/whisper/generation_whisper.py:509: FutureWarning: The input name `inputs` is deprecated. Please make sure to use `input_features` instead.\n",
      "  warnings.warn(\n",
      "/home/johnny/.local/lib/python3.12/site-packages/transformers/models/whisper/generation_whisper.py:509: FutureWarning: The input name `inputs` is deprecated. Please make sure to use `input_features` instead.\n",
      "  warnings.warn(\n"
     ]
    },
    {
     "name": "stdout",
     "output_type": "stream",
     "text": [
      "Processed: LKPR_RUZYNE_Radar_120_520MHz_20201025_125020.wav\n"
     ]
    },
    {
     "name": "stderr",
     "output_type": "stream",
     "text": [
      "/home/johnny/.local/lib/python3.12/site-packages/transformers/models/whisper/generation_whisper.py:509: FutureWarning: The input name `inputs` is deprecated. Please make sure to use `input_features` instead.\n",
      "  warnings.warn(\n",
      "/home/johnny/.local/lib/python3.12/site-packages/transformers/models/whisper/generation_whisper.py:509: FutureWarning: The input name `inputs` is deprecated. Please make sure to use `input_features` instead.\n",
      "  warnings.warn(\n"
     ]
    },
    {
     "name": "stdout",
     "output_type": "stream",
     "text": [
      "Processed: LKPR_RUZYNE_Tower_134_560MHz_20201025_132420.wav\n"
     ]
    }
   ],
   "source": [
    "import json, re, glob\n",
    "\n",
    "def loadJsonFile(file_path):\n",
    "    if (os.path.exists(file_path)):\n",
    "        with open(file_path) as json_file:\n",
    "            return json.load(json_file)\n",
    "    else: \n",
    "        return {\"ProcessedFiles\":[],\"Records\":[]}\n",
    "\n",
    "def saveJsonFile(file_path, data):  \n",
    "    with open(file_path, 'w') as outfile:\n",
    "        json.dump(data, outfile, indent=None, separators=(\",\", \": \"))\n",
    "\n",
    "jsonpath = \"./data.json\"\n",
    "data = loadJsonFile(jsonpath)\n",
    "transcribed_files = data['ProcessedFiles']\n",
    "\n",
    "for path in glob.glob(\"/mnt/datadisk/ATCO2-ASRdataset-v1_final/DATA_nonEN/*.wav\"):\n",
    "    filename = os.path.basename(path)\n",
    "    if (filename not in transcribed_files):\n",
    "        # so far, process only cs recordings (meaning BRNO and RUZYNE in this case)\n",
    "        r = re.search(r'^[^_]+_([^_]+)_([^_]+)', filename)\n",
    "        \n",
    "        if (r.group(1) in ['RUZYNE', 'BRNO']):\n",
    "            model_ts, xml_ts = getTranscription(path)\n",
    "            # read the wav file\n",
    "            sample_rate, wavdata = wavfile.read(path)\n",
    "            \n",
    "            data['ProcessedFiles'].append(filename)\n",
    "            data['Records'].append({\"Audio_path\": path, \"Name\":filename, \"Array\": wavdata.tolist(), \"Sample_rate\": sample_rate, \"Model_ts\": transcribe(path)['text'].rstrip(), \"XML_ts\" :xml_ts})\n",
    "            \n",
    "            print('Processed:', filename)\n",
    "\n",
    "saveJsonFile('data.json', data)"
   ]
  },
  {
   "cell_type": "code",
   "execution_count": 28,
   "metadata": {},
   "outputs": [
    {
     "data": {
      "application/vnd.jupyter.widget-view+json": {
       "model_id": "4333d7d873564a719b7d1088c41000d7",
       "version_major": 2,
       "version_minor": 0
      },
      "text/plain": [
       "Text(value='Oscar Whiskey India Tři Sedm QNH jedna nula jedna šest maximumě dva tisíce pět set stop povolení T…"
      ]
     },
     "metadata": {},
     "output_type": "display_data"
    },
    {
     "data": {
      "application/vnd.jupyter.widget-view+json": {
       "model_id": "85bd8bd27af44ba184fd2487229ac0f7",
       "version_major": 2,
       "version_minor": 0
      },
      "text/plain": [
       "Text(value='Oscar Whiskey India Tři Sedm QNH jedna nula jedna šest maximálně dva tisíce pět set stop povolení …"
      ]
     },
     "metadata": {},
     "output_type": "display_data"
    },
    {
     "data": {
      "application/vnd.jupyter.widget-view+json": {
       "model_id": "688add0a31434b62a26e55c3eff6e8ab",
       "version_major": 2,
       "version_minor": 0
      },
      "text/plain": [
       "Text(value='Oscar Whiskey India Tři Sedm QNH jedna nula jedna šest maximálně dva tisíce pět set stop povolení …"
      ]
     },
     "metadata": {},
     "output_type": "display_data"
    },
    {
     "data": {
      "application/vnd.jupyter.widget-view+json": {
       "model_id": "f075928c34e44e5cbf18fcc991cb01c8",
       "version_major": 2,
       "version_minor": 0
      },
      "text/plain": [
       "Button(description='Submit', style=ButtonStyle())"
      ]
     },
     "metadata": {},
     "output_type": "display_data"
    },
    {
     "data": {
      "application/vnd.jupyter.widget-view+json": {
       "model_id": "8182062327fd4b0ca6939cb9ff2c8043",
       "version_major": 2,
       "version_minor": 0
      },
      "text/plain": [
       "Text(value='Kunovice Nula Jedna v CTR uzlíní maximum dva tisíce pět set stop QNH jedna nula jedna osm', descri…"
      ]
     },
     "metadata": {},
     "output_type": "display_data"
    },
    {
     "data": {
      "application/vnd.jupyter.widget-view+json": {
       "model_id": "ffbe9c559ea44fa5bdb05e251b98669f",
       "version_major": 2,
       "version_minor": 0
      },
      "text/plain": [
       "Text(value='Kryštof Nula Jedna v CTR Ruzyně maximálně dva tisíce pět set stop QNH jedna nula jedna osm', descr…"
      ]
     },
     "metadata": {},
     "output_type": "display_data"
    },
    {
     "data": {
      "application/vnd.jupyter.widget-view+json": {
       "model_id": "6ba8f5e564374970b5b37d99a8938420",
       "version_major": 2,
       "version_minor": 0
      },
      "text/plain": [
       "Text(value='Kryštof Nula Jedna v CTR Ruzyně maximálně dva tisíce pět set stop QNH jedna nula jedna osm', descr…"
      ]
     },
     "metadata": {},
     "output_type": "display_data"
    },
    {
     "data": {
      "application/vnd.jupyter.widget-view+json": {
       "model_id": "f0eb6c35fa844ae18e75087906647056",
       "version_major": 2,
       "version_minor": 0
      },
      "text/plain": [
       "Button(description='Submit', style=ButtonStyle())"
      ]
     },
     "metadata": {},
     "output_type": "display_data"
    },
    {
     "data": {
      "application/vnd.jupyter.widget-view+json": {
       "model_id": "e83a71cf38bd4d91b072b3be69ad9fa8",
       "version_major": 2,
       "version_minor": 0
      },
      "text/plain": [
       "Text(value='Oscar Kilo Oscar Kilo Bravo v této poloze zahájte vyčkávání zatáčkou máme třistašedesát doleva', d…"
      ]
     },
     "metadata": {},
     "output_type": "display_data"
    },
    {
     "data": {
      "application/vnd.jupyter.widget-view+json": {
       "model_id": "bcd83c97a8b9498eaef07f7b5f4985fe",
       "version_major": 2,
       "version_minor": 0
      },
      "text/plain": [
       "Text(value='Oscar Kilo Oscar Kilo Bravo a v této poloze zahajte vyčkávání zatáčkama o tři sta šedesát doleva',…"
      ]
     },
     "metadata": {},
     "output_type": "display_data"
    },
    {
     "data": {
      "application/vnd.jupyter.widget-view+json": {
       "model_id": "9b08931d6f1a4e49929d5d3226ee18a1",
       "version_major": 2,
       "version_minor": 0
      },
      "text/plain": [
       "Text(value='Oscar Kilo Oscar Kilo Bravo a v této poloze zahajte vyčkávání zatáčkama o tři sta šedesát doleva',…"
      ]
     },
     "metadata": {},
     "output_type": "display_data"
    },
    {
     "data": {
      "application/vnd.jupyter.widget-view+json": {
       "model_id": "4c88bb1b3246494cb26f4404ca27bd9d",
       "version_major": 2,
       "version_minor": 0
      },
      "text/plain": [
       "Button(description='Submit', style=ButtonStyle())"
      ]
     },
     "metadata": {},
     "output_type": "display_data"
    },
    {
     "data": {
      "application/vnd.jupyter.widget-view+json": {
       "model_id": "3fd199cc19c34bc2bd93e0b266f35822",
       "version_major": 2,
       "version_minor": 0
      },
      "text/plain": [
       "Text(value='Oscar Kilo Whiskey Alpha India Tři Pět pokračujte přímo Kunovice', description='Model transcript:'…"
      ]
     },
     "metadata": {},
     "output_type": "display_data"
    },
    {
     "data": {
      "application/vnd.jupyter.widget-view+json": {
       "model_id": "612e550a397a4a8ba78dad765b70bea6",
       "version_major": 2,
       "version_minor": 0
      },
      "text/plain": [
       "Text(value='Oscar Kilo Whiskey Alfa India Tři Pět pokračujte přímo Kunovice', description='XML transcript:', d…"
      ]
     },
     "metadata": {},
     "output_type": "display_data"
    },
    {
     "data": {
      "application/vnd.jupyter.widget-view+json": {
       "model_id": "9ae0043e4b4c4ba7a76de6b4c5cb9960",
       "version_major": 2,
       "version_minor": 0
      },
      "text/plain": [
       "Text(value='Oscar Kilo Whiskey Alfa India Tři Pět pokračujte přímo Kunovice', description='New transcript:', l…"
      ]
     },
     "metadata": {},
     "output_type": "display_data"
    },
    {
     "data": {
      "application/vnd.jupyter.widget-view+json": {
       "model_id": "8398f72385e8403d8a86be4f79bcb70f",
       "version_major": 2,
       "version_minor": 0
      },
      "text/plain": [
       "Button(description='Submit', style=ButtonStyle())"
      ]
     },
     "metadata": {},
     "output_type": "display_data"
    },
    {
     "data": {
      "application/vnd.jupyter.widget-view+json": {
       "model_id": "e6ef7da7de4d44ed87e7e782fe15a606",
       "version_major": 2,
       "version_minor": 0
      },
      "text/plain": [
       "Text(value='Kunovice Věžov jedna dva schváleno na slyšenou\\nna slyšenou na slyšenou', description='Model trans…"
      ]
     },
     "metadata": {},
     "output_type": "display_data"
    },
    {
     "data": {
      "application/vnd.jupyter.widget-view+json": {
       "model_id": "2b3fd2700b494ed1abdad5849577b5f9",
       "version_major": 2,
       "version_minor": 0
      },
      "text/plain": [
       "Text(value='Kryštof Jedna Dva schváleno naslyšenou', description='XML transcript:', disabled=True, layout=Layo…"
      ]
     },
     "metadata": {},
     "output_type": "display_data"
    },
    {
     "data": {
      "application/vnd.jupyter.widget-view+json": {
       "model_id": "bbdf726782214c0a91c000ff5c1f7503",
       "version_major": 2,
       "version_minor": 0
      },
      "text/plain": [
       "Text(value='Kryštof Jedna Dva schváleno naslyšenou', description='New transcript:', layout=Layout(width='1500p…"
      ]
     },
     "metadata": {},
     "output_type": "display_data"
    },
    {
     "data": {
      "application/vnd.jupyter.widget-view+json": {
       "model_id": "44fa1a55106e4030837397e8fb4f3952",
       "version_major": 2,
       "version_minor": 0
      },
      "text/plain": [
       "Button(description='Submit', style=ButtonStyle())"
      ]
     },
     "metadata": {},
     "output_type": "display_data"
    },
    {
     "data": {
      "application/vnd.jupyter.widget-view+json": {
       "model_id": "087b1bcc480545909769668daf45879d",
       "version_major": 2,
       "version_minor": 0
      },
      "text/plain": [
       "Text(value='jak bylo na Lošiní\\nno díky jak tady\\nno teď už je tady hezké bylo', description='Model transcript…"
      ]
     },
     "metadata": {},
     "output_type": "display_data"
    },
    {
     "data": {
      "application/vnd.jupyter.widget-view+json": {
       "model_id": "bac94f5adcca46a19501f3bf1fca3d86",
       "version_major": 2,
       "version_minor": 0
      },
      "text/plain": [
       "Text(value='a jak bylo na Losinji', description='XML transcript:', disabled=True, layout=Layout(width='1500px'…"
      ]
     },
     "metadata": {},
     "output_type": "display_data"
    },
    {
     "data": {
      "application/vnd.jupyter.widget-view+json": {
       "model_id": "7ecb0deca27d4e59b14f12951a553b29",
       "version_major": 2,
       "version_minor": 0
      },
      "text/plain": [
       "Text(value='a jak bylo na Losinji', description='New transcript:', layout=Layout(width='1500px'), placeholder=…"
      ]
     },
     "metadata": {},
     "output_type": "display_data"
    },
    {
     "data": {
      "application/vnd.jupyter.widget-view+json": {
       "model_id": "d47459b71fb347ebb6e057d5e355306b",
       "version_major": 2,
       "version_minor": 0
      },
      "text/plain": [
       "Button(description='Submit', style=ButtonStyle())"
      ]
     },
     "metadata": {},
     "output_type": "display_data"
    },
    {
     "data": {
      "application/vnd.jupyter.widget-view+json": {
       "model_id": "faec4144bcea45ad8c7a46e20dbe6eaa",
       "version_major": 2,
       "version_minor": 0
      },
      "text/plain": [
       "Text(value='Oscar Kilo Charlie Echo Sierra informace November QNH jedna nula jedna šest a jste povoleni za VFR…"
      ]
     },
     "metadata": {},
     "output_type": "display_data"
    },
    {
     "data": {
      "application/vnd.jupyter.widget-view+json": {
       "model_id": "333f6fc278964cc5a5b90f3751cab3dd",
       "version_major": 2,
       "version_minor": 0
      },
      "text/plain": [
       "Text(value='Oscar Kilo Charlie Echo Sierra informace november QNH jedna nula jedna šest a jste povolení za VFR…"
      ]
     },
     "metadata": {},
     "output_type": "display_data"
    },
    {
     "data": {
      "application/vnd.jupyter.widget-view+json": {
       "model_id": "81e5d295921e4725b145028954c9512b",
       "version_major": 2,
       "version_minor": 0
      },
      "text/plain": [
       "Text(value='Oscar Kilo Charlie Echo Sierra informace november QNH jedna nula jedna šest a jste povolení za VFR…"
      ]
     },
     "metadata": {},
     "output_type": "display_data"
    },
    {
     "data": {
      "application/vnd.jupyter.widget-view+json": {
       "model_id": "850a252f450941be9161853019e43158",
       "version_major": 2,
       "version_minor": 0
      },
      "text/plain": [
       "Button(description='Submit', style=ButtonStyle())"
      ]
     },
     "metadata": {},
     "output_type": "display_data"
    },
    {
     "data": {
      "application/vnd.jupyter.widget-view+json": {
       "model_id": "69b402452d25452791b0f0334a2013b6",
       "version_major": 2,
       "version_minor": 0
      },
      "text/plain": [
       "Text(value='hello Věž\\ndávej\\npřes práci dva a nebo prosilete neměrem přes den\\na zpolega je zlínu\\nsuper díky…"
      ]
     },
     "metadata": {},
     "output_type": "display_data"
    },
    {
     "data": {
      "application/vnd.jupyter.widget-view+json": {
       "model_id": "30795da5356b4fd48e83e1657882da35",
       "version_major": 2,
       "version_minor": 0
      },
      "text/plain": [
       "Text(value='Follow Věž', description='XML transcript:', disabled=True, layout=Layout(width='1500px'), placehol…"
      ]
     },
     "metadata": {},
     "output_type": "display_data"
    },
    {
     "data": {
      "application/vnd.jupyter.widget-view+json": {
       "model_id": "65fa54e08e8b420fb358ea410383b8d1",
       "version_major": 2,
       "version_minor": 0
      },
      "text/plain": [
       "Text(value='Follow Věž', description='New transcript:', layout=Layout(width='1500px'), placeholder='New transc…"
      ]
     },
     "metadata": {},
     "output_type": "display_data"
    },
    {
     "data": {
      "application/vnd.jupyter.widget-view+json": {
       "model_id": "dbcb57bcec224625aff10b0a5ca62b4e",
       "version_major": 2,
       "version_minor": 0
      },
      "text/plain": [
       "Button(description='Submit', style=ButtonStyle())"
      ]
     },
     "metadata": {},
     "output_type": "display_data"
    },
    {
     "data": {
      "application/vnd.jupyter.widget-view+json": {
       "model_id": "74e50b0256f7441db70f96542b838eff",
       "version_major": 2,
       "version_minor": 0
      },
      "text/plain": [
       "Text(value='jedna osm čára tři sedm pět Brno na hradán a zkoušku\\nto je nula tři sedm pět Bravo pětkou\\npětkou…"
      ]
     },
     "metadata": {},
     "output_type": "display_data"
    },
    {
     "data": {
      "application/vnd.jupyter.widget-view+json": {
       "model_id": "e16375304a774135b3c0b5eacd3d41d8",
       "version_major": 2,
       "version_minor": 0
      },
      "text/plain": [
       "Text(value='jedna jedna osm čára tři sedm pět Brno náhrada na zkoušku', description='XML transcript:', disable…"
      ]
     },
     "metadata": {},
     "output_type": "display_data"
    },
    {
     "data": {
      "application/vnd.jupyter.widget-view+json": {
       "model_id": "5671ca40416644b29b5d73e496023437",
       "version_major": 2,
       "version_minor": 0
      },
      "text/plain": [
       "Text(value='jedna jedna osm čára tři sedm pět Brno náhrada na zkoušku', description='New transcript:', layout=…"
      ]
     },
     "metadata": {},
     "output_type": "display_data"
    },
    {
     "data": {
      "application/vnd.jupyter.widget-view+json": {
       "model_id": "098e0f06056043429614e8e765c9c15c",
       "version_major": 2,
       "version_minor": 0
      },
      "text/plain": [
       "Button(description='Submit', style=ButtonStyle())"
      ]
     },
     "metadata": {},
     "output_type": "display_data"
    },
    {
     "data": {
      "application/vnd.jupyter.widget-view+json": {
       "model_id": "bd3670d264f44ac389490e45b0cc8d1d",
       "version_major": 2,
       "version_minor": 0
      },
      "text/plain": [
       "Text(value=' kračujte jako levé stačně a jsi nic nejné', description='Model transcript:', disabled=True, layou…"
      ]
     },
     "metadata": {},
     "output_type": "display_data"
    },
    {
     "data": {
      "application/vnd.jupyter.widget-view+json": {
       "model_id": "5fd016a2523148f69297e0dc20879148",
       "version_major": 2,
       "version_minor": 0
      },
      "text/plain": [
       "Text(value='no pokračuj akorát bezpečně vo nic nejde', description='XML transcript:', disabled=True, layout=La…"
      ]
     },
     "metadata": {},
     "output_type": "display_data"
    },
    {
     "data": {
      "application/vnd.jupyter.widget-view+json": {
       "model_id": "eb26e3bbe44e4c7989d741ecf7ff2ea9",
       "version_major": 2,
       "version_minor": 0
      },
      "text/plain": [
       "Text(value='no pokračuj akorát bezpečně vo nic nejde', description='New transcript:', layout=Layout(width='150…"
      ]
     },
     "metadata": {},
     "output_type": "display_data"
    },
    {
     "data": {
      "application/vnd.jupyter.widget-view+json": {
       "model_id": "488078610c784642bd2184a43c460cf5",
       "version_major": 2,
       "version_minor": 0
      },
      "text/plain": [
       "Button(description='Submit', style=ButtonStyle())"
      ]
     },
     "metadata": {},
     "output_type": "display_data"
    },
    {
     "data": {
      "application/vnd.jupyter.widget-view+json": {
       "model_id": "b31fe8246f714ab79bb30e62fbc9bb3e",
       "version_major": 2,
       "version_minor": 0
      },
      "text/plain": [
       "Text(value='Oscar Kilo Tango Oscar Charlie a za minutu opouštěte CTR rozumě a squawk sedm tisíc a na slyšenou\\…"
      ]
     },
     "metadata": {},
     "output_type": "display_data"
    },
    {
     "data": {
      "application/vnd.jupyter.widget-view+json": {
       "model_id": "553c9faf01ec4b97b14dd1cdca93ffc2",
       "version_major": 2,
       "version_minor": 0
      },
      "text/plain": [
       "Text(value='Oskar Kilo Tango Oscar Charlie a za minutu opustíte CTR Ruzyně a squawk sedm tisíc a na slyšenou',…"
      ]
     },
     "metadata": {},
     "output_type": "display_data"
    },
    {
     "data": {
      "application/vnd.jupyter.widget-view+json": {
       "model_id": "fc58defdcf7f461cbcd20f3a4f856710",
       "version_major": 2,
       "version_minor": 0
      },
      "text/plain": [
       "Text(value='Oskar Kilo Tango Oscar Charlie a za minutu opustíte CTR Ruzyně a squawk sedm tisíc a na slyšenou',…"
      ]
     },
     "metadata": {},
     "output_type": "display_data"
    },
    {
     "data": {
      "application/vnd.jupyter.widget-view+json": {
       "model_id": "89ef948034184a47a0b974486bae1327",
       "version_major": 2,
       "version_minor": 0
      },
      "text/plain": [
       "Button(description='Submit', style=ButtonStyle())"
      ]
     },
     "metadata": {},
     "output_type": "display_data"
    },
    {
     "data": {
      "application/vnd.jupyter.widget-view+json": {
       "model_id": "4b4fa011b6d6463b8ecdd9c929c7e738",
       "version_major": 2,
       "version_minor": 0
      },
      "text/plain": [
       "Text(value='Kunovice Alpha Jedna pardon Kryštof nula sedm dobrý večer opět a jejte finále zítkové Sady\\nfinále…"
      ]
     },
     "metadata": {},
     "output_type": "display_data"
    },
    {
     "data": {
      "application/vnd.jupyter.widget-view+json": {
       "model_id": "5d5c28ba9042444f965fc14d0a95bd58",
       "version_major": 2,
       "version_minor": 0
      },
      "text/plain": [
       "Text(value='Kryštofe Jedna pardon Kryštofe [hes] Nula Sedm dobrý večer opět dejte finále Zítkovy sady', descri…"
      ]
     },
     "metadata": {},
     "output_type": "display_data"
    },
    {
     "data": {
      "application/vnd.jupyter.widget-view+json": {
       "model_id": "54bb56676cb44fa491f109128c7cf453",
       "version_major": 2,
       "version_minor": 0
      },
      "text/plain": [
       "Text(value='Kryštofe Jedna pardon Kryštofe [hes] Nula Sedm dobrý večer opět dejte finále Zítkovy sady', descri…"
      ]
     },
     "metadata": {},
     "output_type": "display_data"
    },
    {
     "data": {
      "application/vnd.jupyter.widget-view+json": {
       "model_id": "ad4b93abc8d4441196f5829c75811c9e",
       "version_major": 2,
       "version_minor": 0
      },
      "text/plain": [
       "Button(description='Submit', style=ButtonStyle())"
      ]
     },
     "metadata": {},
     "output_type": "display_data"
    },
    {
     "data": {
      "application/vnd.jupyter.widget-view+json": {
       "model_id": "5766aee85e0443108fb0ce2043337635",
       "version_major": 2,
       "version_minor": 0
      },
      "text/plain": [
       "Text(value='Oscar Kilo Lima Papa Victor contact radar one two seven decimal three five zero\\nOscar Kilo Echo O…"
      ]
     },
     "metadata": {},
     "output_type": "display_data"
    },
    {
     "data": {
      "application/vnd.jupyter.widget-view+json": {
       "model_id": "a2d63ebd9c1444c994c98974779da086",
       "version_major": 2,
       "version_minor": 0
      },
      "text/plain": [
       "Text(value='Oscar Kilo Lima Papa Victor contact radar one two seven decimal three five zero', description='XML…"
      ]
     },
     "metadata": {},
     "output_type": "display_data"
    },
    {
     "data": {
      "application/vnd.jupyter.widget-view+json": {
       "model_id": "287e0d9df3444f67aa8e1efecfb45e83",
       "version_major": 2,
       "version_minor": 0
      },
      "text/plain": [
       "Text(value='Oscar Kilo Lima Papa Victor contact radar one two seven decimal three five zero', description='New…"
      ]
     },
     "metadata": {},
     "output_type": "display_data"
    },
    {
     "data": {
      "application/vnd.jupyter.widget-view+json": {
       "model_id": "00caaabfce814deba12173da94f1f384",
       "version_major": 2,
       "version_minor": 0
      },
      "text/plain": [
       "Button(description='Submit', style=ButtonStyle())"
      ]
     },
     "metadata": {},
     "output_type": "display_data"
    },
    {
     "data": {
      "application/vnd.jupyter.widget-view+json": {
       "model_id": "b4aa064fa8264118ae9698a7788430af",
       "version_major": 2,
       "version_minor": 0
      },
      "text/plain": [
       "Text(value='Oscar Hotel Uniform Čtyry Dva pokračujte po Whiskey a oznamte opuštění ploch', description='Model …"
      ]
     },
     "metadata": {},
     "output_type": "display_data"
    },
    {
     "data": {
      "application/vnd.jupyter.widget-view+json": {
       "model_id": "40ad9a832c004c6cb2981ba631b6d754",
       "version_major": 2,
       "version_minor": 0
      },
      "text/plain": [
       "Text(value='Oskar Hotel Uniform Čtyři Dva pokračujte po whiskey a oznamte opuštění ploch', description='XML tr…"
      ]
     },
     "metadata": {},
     "output_type": "display_data"
    },
    {
     "data": {
      "application/vnd.jupyter.widget-view+json": {
       "model_id": "8a5626a967264862a5bb4d27574e45c8",
       "version_major": 2,
       "version_minor": 0
      },
      "text/plain": [
       "Text(value='Oskar Hotel Uniform Čtyři Dva pokračujte po whiskey a oznamte opuštění ploch', description='New tr…"
      ]
     },
     "metadata": {},
     "output_type": "display_data"
    },
    {
     "data": {
      "application/vnd.jupyter.widget-view+json": {
       "model_id": "e1eeb037588943d1a5dd0d742d25a6de",
       "version_major": 2,
       "version_minor": 0
      },
      "text/plain": [
       "Button(description='Submit', style=ButtonStyle())"
      ]
     },
     "metadata": {},
     "output_type": "display_data"
    },
    {
     "data": {
      "application/vnd.jupyter.widget-view+json": {
       "model_id": "e029d60fe3f045809eb1bc7f3bddf7dd",
       "version_major": 2,
       "version_minor": 0
      },
      "text/plain": [
       "Text(value='rozumím Radar Oscar Kilo Whiskey Kilo Foxtrot dobrý večer\\nOscar Kilo Whiskey Kilo Foxtrot dobré č…"
      ]
     },
     "metadata": {},
     "output_type": "display_data"
    },
    {
     "data": {
      "application/vnd.jupyter.widget-view+json": {
       "model_id": "a22164dae5f649cd8fee8920f4f1379a",
       "version_major": 2,
       "version_minor": 0
      },
      "text/plain": [
       "Text(value='Ruzyně Radar Oskar Kilo Whisky Kilo Foxtrot dobrý večer', description='XML transcript:', disabled=…"
      ]
     },
     "metadata": {},
     "output_type": "display_data"
    },
    {
     "data": {
      "application/vnd.jupyter.widget-view+json": {
       "model_id": "83c794c24b4240f6b4946a55b16570a6",
       "version_major": 2,
       "version_minor": 0
      },
      "text/plain": [
       "Text(value='Ruzyně Radar Oskar Kilo Whisky Kilo Foxtrot dobrý večer', description='New transcript:', layout=La…"
      ]
     },
     "metadata": {},
     "output_type": "display_data"
    },
    {
     "data": {
      "application/vnd.jupyter.widget-view+json": {
       "model_id": "60145046772946ef98d4c0e50d8c1916",
       "version_major": 2,
       "version_minor": 0
      },
      "text/plain": [
       "Button(description='Submit', style=ButtonStyle())"
      ]
     },
     "metadata": {},
     "output_type": "display_data"
    },
    {
     "data": {
      "application/vnd.jupyter.widget-view+json": {
       "model_id": "51b80ba4b2f04f33ae120bf3a4adcc91",
       "version_major": 2,
       "version_minor": 0
      },
      "text/plain": [
       "Text(value='Oscar Kilo Golf opacera dráha dva sedm přistání povoleno vítr dva čtyři nula stupňů pět uzlů uvoln…"
      ]
     },
     "metadata": {},
     "output_type": "display_data"
    },
    {
     "data": {
      "application/vnd.jupyter.widget-view+json": {
       "model_id": "d527c8da0d024856ab6f291d93628c02",
       "version_major": 2,
       "version_minor": 0
      },
      "text/plain": [
       "Text(value='Oskar Kilo Golf Papa Sierra drahá dva sedm přistání povoleno vítr dva čtyři nula stupňů pět uzlů u…"
      ]
     },
     "metadata": {},
     "output_type": "display_data"
    },
    {
     "data": {
      "application/vnd.jupyter.widget-view+json": {
       "model_id": "bbeafaa065584d4fad7d82972c0bb584",
       "version_major": 2,
       "version_minor": 0
      },
      "text/plain": [
       "Text(value='Oskar Kilo Golf Papa Sierra drahá dva sedm přistání povoleno vítr dva čtyři nula stupňů pět uzlů u…"
      ]
     },
     "metadata": {},
     "output_type": "display_data"
    },
    {
     "data": {
      "application/vnd.jupyter.widget-view+json": {
       "model_id": "eea212e2177440a28349390013d29cfe",
       "version_major": 2,
       "version_minor": 0
      },
      "text/plain": [
       "Button(description='Submit', style=ButtonStyle())"
      ]
     },
     "metadata": {},
     "output_type": "display_data"
    },
    {
     "data": {
      "application/vnd.jupyter.widget-view+json": {
       "model_id": "88b54493691046c7aa64778752c72883",
       "version_major": 2,
       "version_minor": 0
      },
      "text/plain": [
       "Text(value='Alpha o třetí kousek ve na Mikeed na Bravo\\n Mikeed na Bravo pouzej', description='Model transcrip…"
      ]
     },
     "metadata": {},
     "output_type": "display_data"
    },
    {
     "data": {
      "application/vnd.jupyter.widget-view+json": {
       "model_id": "566ade629e46427b997f3868a2eb3908",
       "version_major": 2,
       "version_minor": 0
      },
      "text/plain": [
       "Text(value='[unk] třetí kousek bude na Mike Jedna Bravo', description='XML transcript:', disabled=True, layout…"
      ]
     },
     "metadata": {},
     "output_type": "display_data"
    },
    {
     "data": {
      "application/vnd.jupyter.widget-view+json": {
       "model_id": "84f2834a6c1a42c7841b10e2b6dcf160",
       "version_major": 2,
       "version_minor": 0
      },
      "text/plain": [
       "Text(value='[unk] třetí kousek bude na Mike Jedna Bravo', description='New transcript:', layout=Layout(width='…"
      ]
     },
     "metadata": {},
     "output_type": "display_data"
    },
    {
     "data": {
      "application/vnd.jupyter.widget-view+json": {
       "model_id": "67263032cdc746fbbf6d022be88eb75b",
       "version_major": 2,
       "version_minor": 0
      },
      "text/plain": [
       "Button(description='Submit', style=ButtonStyle())"
      ]
     },
     "metadata": {},
     "output_type": "display_data"
    },
    {
     "data": {
      "application/vnd.jupyter.widget-view+json": {
       "model_id": "ff2deb00f8314a739877874e2569f608",
       "version_major": 2,
       "version_minor": 0
      },
      "text/plain": [
       "Text(value='Praha Radar Oscar Kilo Whiskey Yankee Zulu dobré odpoledne a pokračujeme November\\nOscar Kilo Whis…"
      ]
     },
     "metadata": {},
     "output_type": "display_data"
    },
    {
     "data": {
      "application/vnd.jupyter.widget-view+json": {
       "model_id": "097352133f854db2835bbb4276e88309",
       "version_major": 2,
       "version_minor": 0
      },
      "text/plain": [
       "Text(value='a Praha Radar Oskar Kilo Whisky Yankee Zulu dobré odpoledne a pokračuji november', description='XM…"
      ]
     },
     "metadata": {},
     "output_type": "display_data"
    },
    {
     "data": {
      "application/vnd.jupyter.widget-view+json": {
       "model_id": "56579d1b2504487abb5c714adda0455a",
       "version_major": 2,
       "version_minor": 0
      },
      "text/plain": [
       "Text(value='a Praha Radar Oskar Kilo Whisky Yankee Zulu dobré odpoledne a pokračuji november', description='Ne…"
      ]
     },
     "metadata": {},
     "output_type": "display_data"
    },
    {
     "data": {
      "application/vnd.jupyter.widget-view+json": {
       "model_id": "818bf206b35b4bd59284df2af34204a1",
       "version_major": 2,
       "version_minor": 0
      },
      "text/plain": [
       "Button(description='Submit', style=ButtonStyle())"
      ]
     },
     "metadata": {},
     "output_type": "display_data"
    },
    {
     "data": {
      "application/vnd.jupyter.widget-view+json": {
       "model_id": "f669765ed4474bafb0c4f4a6325a7878",
       "version_major": 2,
       "version_minor": 0
      },
      "text/plain": [
       "Text(value='po Alphě pokračuju pravý baseleg dráhy dva čtyři a ohlásím finále Oscar Kilo Papa Alpha Zulu', des…"
      ]
     },
     "metadata": {},
     "output_type": "display_data"
    },
    {
     "data": {
      "application/vnd.jupyter.widget-view+json": {
       "model_id": "ee45e372f9654e1a84bfb5736063b72a",
       "version_major": 2,
       "version_minor": 0
      },
      "text/plain": [
       "Text(value='po alfě pokračuju pravý base lag dráhy dva čtyři a ohlásím [hes] finále Oskar Kilo Papa Alfa Zulu'…"
      ]
     },
     "metadata": {},
     "output_type": "display_data"
    },
    {
     "data": {
      "application/vnd.jupyter.widget-view+json": {
       "model_id": "a294a4b98175476fafbb02c77c0eb0af",
       "version_major": 2,
       "version_minor": 0
      },
      "text/plain": [
       "Text(value='po alfě pokračuju pravý base lag dráhy dva čtyři a ohlásím [hes] finále Oskar Kilo Papa Alfa Zulu'…"
      ]
     },
     "metadata": {},
     "output_type": "display_data"
    },
    {
     "data": {
      "application/vnd.jupyter.widget-view+json": {
       "model_id": "ae93ceb82b4746fb84f61197d332d971",
       "version_major": 2,
       "version_minor": 0
      },
      "text/plain": [
       "Button(description='Submit', style=ButtonStyle())"
      ]
     },
     "metadata": {},
     "output_type": "display_data"
    },
    {
     "data": {
      "application/vnd.jupyter.widget-view+json": {
       "model_id": "1343a97b52cd4f3487158aed4eae106e",
       "version_major": 2,
       "version_minor": 0
      },
      "text/plain": [
       "Button(description='Write to JSON', style=ButtonStyle())"
      ]
     },
     "metadata": {},
     "output_type": "display_data"
    }
   ],
   "source": [
    "from ipywidgets import widgets\n",
    "from IPython.display import display\n",
    "\n",
    "jsonpath = \"./data.json\"\n",
    "jsondata = loadJsonFile(jsonpath)\n",
    "\n",
    "for item in jsondata['Records']:\n",
    "    # Create a text input widget\n",
    "    text_correct_long = widgets.Text(\n",
    "        placeholder=\"Long correct text\",\n",
    "        description=\"Model transcript:\",\n",
    "        value=item['Model_ts'],\n",
    "        layout=widgets.Layout(width='1500px'),\n",
    "        disabled=True\n",
    "    )\n",
    "\n",
    "    text_correct_short = widgets.Text(\n",
    "        placeholder=\"Short correct text\",\n",
    "        description=\"XML transcript:\",\n",
    "        value=item['XML_ts'],\n",
    "        layout=widgets.Layout(width='1500px'),\n",
    "        disabled=True\n",
    "    )\n",
    "    \n",
    "    text_new_ts = widgets.Text(\n",
    "        placeholder=\"New transcript\",\n",
    "        disabled=False,\n",
    "        value=item['XML_ts'],\n",
    "        layout=widgets.Layout(width='1500px'),\n",
    "        description=\"New transcript:\"\n",
    "    )\n",
    "    # Create a button widget\n",
    "    submit_button = widgets.Button(description=\"Submit\")\n",
    "\n",
    "    def save_new_jsonval():\n",
    "        item['XML_ts'] = \"thisismyspecialtext\"\n",
    "        # print('New transcript:', item['mytranscript'])\n",
    "        \n",
    "    # Set the button's click event to the function\n",
    "    submit_button.on_click(lambda _: save_new_jsonval)\n",
    "\n",
    "    # Display the widgets\n",
    "    display(text_correct_long,text_correct_short, text_new_ts,submit_button)\n",
    "\n",
    "# Create a button widget\n",
    "fin_btn = widgets.Button(description=\"Write to JSON\")\n",
    "    \n",
    "# Set the button's click event to the function\n",
    "fin_btn.on_click(lambda _: saveJsonFile(jsonpath,jsondata))\n",
    "display(fin_btn)"
   ]
  },
  {
   "cell_type": "code",
   "execution_count": 12,
   "metadata": {},
   "outputs": [],
   "source": [
    "dd = {\n",
    "    \"name\": \"Jmeno\",\n",
    "    \"surname\": \"Prijmeni\", \n",
    "    'dalsidata': [\n",
    "        {\"name\": \"Jmeno1\", \"surname\": \"Prijmeni1\"},\n",
    "        {\"name\": \"Jmeno2\", \"surname\": \"Prijmeni2\"},\n",
    "    ]\n",
    "}\n",
    "with open('test.json', 'w') as outfile:\n",
    "    json.dump(dd,outfile)\n"
   ]
  },
  {
   "cell_type": "code",
   "execution_count": 15,
   "metadata": {},
   "outputs": [
    {
     "name": "stdout",
     "output_type": "stream",
     "text": [
      "{'name': 'Jmeno', 'surname': 'Prijmeni', 'dalsidata': [{'name': 'Jmeno1', 'surname': 'Prijmeni1'}, {'name': 'Jmeno2', 'surname': 'Prijmeni2'}]}\n",
      "Jmeno1 Prijmeni1\n",
      "Jmeno2 Prijmeni2\n",
      "{'name': 'Jmeno', 'surname': 'Prijmeni', 'dalsidata': [{'name': 'NewJmeno1', 'surname': 'NewPrijmeni1'}, {'name': 'NewJmeno2', 'surname': 'NewPrijmeni2'}]}\n"
     ]
    }
   ],
   "source": [
    "ddload = json.load(open('test.json'))\n",
    "print(ddload)\n",
    "for item in ddload['dalsidata']:\n",
    "    print(item['name'], item['surname'])\n",
    "    item['name'] = f'New{item[\"name\"]}'\n",
    "    item['surname'] = f'New{item[\"surname\"]}'\n",
    "print(ddload)"
   ]
  },
  {
   "cell_type": "code",
   "execution_count": null,
   "metadata": {},
   "outputs": [],
   "source": []
  },
  {
   "cell_type": "code",
   "execution_count": 10,
   "metadata": {},
   "outputs": [],
   "source": [
    "ddload['name'] = 'Pavel'\n",
    "with open('test.json', 'w') as outfile:\n",
    "    json.dump(ddload,outfile)"
   ]
  }
 ],
 "metadata": {
  "kernelspec": {
   "display_name": "Python 3",
   "language": "python",
   "name": "python3"
  },
  "language_info": {
   "codemirror_mode": {
    "name": "ipython",
    "version": 3
   },
   "file_extension": ".py",
   "mimetype": "text/x-python",
   "name": "python",
   "nbconvert_exporter": "python",
   "pygments_lexer": "ipython3",
   "version": "3.12.7"
  }
 },
 "nbformat": 4,
 "nbformat_minor": 2
}
